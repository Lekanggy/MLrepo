{
 "cells": [
  {
   "cell_type": "code",
   "execution_count": 1,
   "id": "8816235f-f558-44fc-a60e-9d4d01bb35bd",
   "metadata": {},
   "outputs": [],
   "source": [
    "from polygon import m_item"
   ]
  },
  {
   "cell_type": "code",
   "execution_count": null,
   "id": "7760f4fd-16b2-4678-a5bc-b305968bfb90",
   "metadata": {},
   "outputs": [
    {
     "name": "stderr",
     "output_type": "stream",
     "text": [
      "2025-01-21 13:00:43.645 Python[6803:141790] WARNING: Secure coding is automatically enabled for restorable state! However, not on all supported macOS versions of this application. Opt-in to secure coding explicitly by implementing NSApplicationDelegate.applicationSupportsSecureRestorableState:.\n"
     ]
    }
   ],
   "source": [
    "m_item()"
   ]
  },
  {
   "cell_type": "code",
   "execution_count": null,
   "id": "ed24cfad-b4ee-4413-bd5f-1e1e5d49dd9c",
   "metadata": {},
   "outputs": [],
   "source": []
  }
 ],
 "metadata": {
  "kernelspec": {
   "display_name": "Python 3 (ipykernel)",
   "language": "python",
   "name": "python3"
  },
  "language_info": {
   "codemirror_mode": {
    "name": "ipython",
    "version": 3
   },
   "file_extension": ".py",
   "mimetype": "text/x-python",
   "name": "python",
   "nbconvert_exporter": "python",
   "pygments_lexer": "ipython3",
   "version": "3.9.6"
  }
 },
 "nbformat": 4,
 "nbformat_minor": 5
}
