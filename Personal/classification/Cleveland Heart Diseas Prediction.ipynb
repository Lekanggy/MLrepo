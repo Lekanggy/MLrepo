{
 "cells": [
  {
   "cell_type": "markdown",
   "id": "3c0f9098-0aa2-48b0-bec2-ffb141217a58",
   "metadata": {},
   "source": [
    "# Predicting Heart Diseases (Cleveland)"
   ]
  },
  {
   "cell_type": "code",
   "execution_count": 1,
   "id": "ec6f61f9-ade5-4d43-9bf3-8002c5765c03",
   "metadata": {},
   "outputs": [],
   "source": [
    "import matplotlib.pyplot as plt\n",
    "import numpy as np\n",
    "import pandas as pd\n",
    "import seaborn as sns\n",
    "from category_encoders import OneHotEncoder\n",
    "from sklearn.linear_model import LogisticRegression\n",
    "from sklearn.metrics import accuracy_score\n",
    "from sklearn.model_selection import train_test_split\n",
    "from sklearn.pipeline import Pipeline, make_pipeline"
   ]
  },
  {
   "cell_type": "markdown",
   "id": "285ef2d6-3934-4c65-8ae4-fc82fcef6158",
   "metadata": {},
   "source": [
    "## Feature Classification"
   ]
  },
  {
   "cell_type": "code",
   "execution_count": 2,
   "id": "bc2cdb51-5e82-4bbe-b555-43229b0d4413",
   "metadata": {},
   "outputs": [],
   "source": [
    "features = [ \n",
    "    \"age\", \"sex\", \"cp\", \"trestbps\", \"chol\", \"fbs\", \"restecg\", \n",
    "    \"thalach\", \"exang\", \"oldpeak\", \"slope\", \"ca\", \"thal\", \"num\"\n",
    "]\n",
    "\n",
    "ordinal = [\"slope\", \"ca\"]\n",
    "norminal = [\"sex\", \"thal\", \"cp\", \"restecg\", \"exang\"]"
   ]
  },
  {
   "cell_type": "markdown",
   "id": "c446bc05-977e-4d79-8571-d3a0fbe050d2",
   "metadata": {},
   "source": [
    "# Running EDA"
   ]
  },
  {
   "cell_type": "code",
   "execution_count": 3,
   "id": "7e33c6a6-e50b-4715-80a6-4f32401c5b1b",
   "metadata": {},
   "outputs": [],
   "source": [
    "def wrangle_data(filepath):\n",
    "    df = pd.read_csv(filepath)\n",
    "    df.columns = features\n",
    "    for ordi in ordinal:\n",
    "        df[ordi] = pd.to_numeric(df[ordi], errors=\"coerce\")\n",
    "    \n",
    "    #use the original value of cp, restecg and thal\n",
    "    df[\"cp\"] = df[\"cp\"].replace({1: \"typical_angina\", 2: \"atypical_angina\", 3: \"non_angina\", 4: \"asymptomatic\"})\n",
    "    df[\"thal\"] = df[\"thal\"].replace({\"3.0\": \"normal\", \"6.0\": \"fixed_defect\", \"7.0\": \"reversible_defect\", \"?\": \"normal\"})\n",
    "    df[\"restecg\"] = df[\"restecg\"].replace({0: \"normal\", 1: \"abnormal\", 2: \"probably\"})\n",
    "    \n",
    "    #Convert and clean the ca features\n",
    "    df[\"ca\"] = df[\"ca\"].replace(\"?\", \"0\").fillna(0.0).astype(int)\n",
    "    \n",
    "    #Convert neccesary columns to int\n",
    "    discrete_value = [\"age\", \"sex\", \"fbs\", \"exang\", \"trestbps\", \"thalach\", \"slope\", \"chol\"]\n",
    "    df[discrete_value] = df[discrete_value].astype(int)\n",
    "    \n",
    "    #Change the target variable to binary\n",
    "    df[\"num\"] = (df[\"num\"] > 0).astype(int)\n",
    "    \n",
    "    return df"
   ]
  },
  {
   "cell_type": "code",
   "execution_count": 4,
   "id": "5d4cebb7-105b-41d2-a7d3-9f0fd2788d64",
   "metadata": {},
   "outputs": [
    {
     "data": {
      "text/html": [
       "<div>\n",
       "<style scoped>\n",
       "    .dataframe tbody tr th:only-of-type {\n",
       "        vertical-align: middle;\n",
       "    }\n",
       "\n",
       "    .dataframe tbody tr th {\n",
       "        vertical-align: top;\n",
       "    }\n",
       "\n",
       "    .dataframe thead th {\n",
       "        text-align: right;\n",
       "    }\n",
       "</style>\n",
       "<table border=\"1\" class=\"dataframe\">\n",
       "  <thead>\n",
       "    <tr style=\"text-align: right;\">\n",
       "      <th></th>\n",
       "      <th>age</th>\n",
       "      <th>sex</th>\n",
       "      <th>cp</th>\n",
       "      <th>trestbps</th>\n",
       "      <th>chol</th>\n",
       "      <th>fbs</th>\n",
       "      <th>restecg</th>\n",
       "      <th>thalach</th>\n",
       "      <th>exang</th>\n",
       "      <th>oldpeak</th>\n",
       "      <th>slope</th>\n",
       "      <th>ca</th>\n",
       "      <th>thal</th>\n",
       "      <th>num</th>\n",
       "    </tr>\n",
       "  </thead>\n",
       "  <tbody>\n",
       "    <tr>\n",
       "      <th>0</th>\n",
       "      <td>67</td>\n",
       "      <td>1</td>\n",
       "      <td>asymptomatic</td>\n",
       "      <td>160</td>\n",
       "      <td>286</td>\n",
       "      <td>0</td>\n",
       "      <td>probably</td>\n",
       "      <td>108</td>\n",
       "      <td>1</td>\n",
       "      <td>1.5</td>\n",
       "      <td>2</td>\n",
       "      <td>3</td>\n",
       "      <td>normal</td>\n",
       "      <td>1</td>\n",
       "    </tr>\n",
       "    <tr>\n",
       "      <th>1</th>\n",
       "      <td>67</td>\n",
       "      <td>1</td>\n",
       "      <td>asymptomatic</td>\n",
       "      <td>120</td>\n",
       "      <td>229</td>\n",
       "      <td>0</td>\n",
       "      <td>probably</td>\n",
       "      <td>129</td>\n",
       "      <td>1</td>\n",
       "      <td>2.6</td>\n",
       "      <td>2</td>\n",
       "      <td>2</td>\n",
       "      <td>reversible_defect</td>\n",
       "      <td>1</td>\n",
       "    </tr>\n",
       "    <tr>\n",
       "      <th>2</th>\n",
       "      <td>37</td>\n",
       "      <td>1</td>\n",
       "      <td>non_angina</td>\n",
       "      <td>130</td>\n",
       "      <td>250</td>\n",
       "      <td>0</td>\n",
       "      <td>normal</td>\n",
       "      <td>187</td>\n",
       "      <td>0</td>\n",
       "      <td>3.5</td>\n",
       "      <td>3</td>\n",
       "      <td>0</td>\n",
       "      <td>normal</td>\n",
       "      <td>0</td>\n",
       "    </tr>\n",
       "    <tr>\n",
       "      <th>3</th>\n",
       "      <td>41</td>\n",
       "      <td>0</td>\n",
       "      <td>atypical_angina</td>\n",
       "      <td>130</td>\n",
       "      <td>204</td>\n",
       "      <td>0</td>\n",
       "      <td>probably</td>\n",
       "      <td>172</td>\n",
       "      <td>0</td>\n",
       "      <td>1.4</td>\n",
       "      <td>1</td>\n",
       "      <td>0</td>\n",
       "      <td>normal</td>\n",
       "      <td>0</td>\n",
       "    </tr>\n",
       "    <tr>\n",
       "      <th>4</th>\n",
       "      <td>56</td>\n",
       "      <td>1</td>\n",
       "      <td>atypical_angina</td>\n",
       "      <td>120</td>\n",
       "      <td>236</td>\n",
       "      <td>0</td>\n",
       "      <td>normal</td>\n",
       "      <td>178</td>\n",
       "      <td>0</td>\n",
       "      <td>0.8</td>\n",
       "      <td>1</td>\n",
       "      <td>0</td>\n",
       "      <td>normal</td>\n",
       "      <td>0</td>\n",
       "    </tr>\n",
       "  </tbody>\n",
       "</table>\n",
       "</div>"
      ],
      "text/plain": [
       "   age  sex               cp  trestbps  chol  fbs   restecg  thalach  exang  \\\n",
       "0   67    1     asymptomatic       160   286    0  probably      108      1   \n",
       "1   67    1     asymptomatic       120   229    0  probably      129      1   \n",
       "2   37    1       non_angina       130   250    0    normal      187      0   \n",
       "3   41    0  atypical_angina       130   204    0  probably      172      0   \n",
       "4   56    1  atypical_angina       120   236    0    normal      178      0   \n",
       "\n",
       "   oldpeak  slope  ca               thal  num  \n",
       "0      1.5      2   3             normal    1  \n",
       "1      2.6      2   2  reversible_defect    1  \n",
       "2      3.5      3   0             normal    0  \n",
       "3      1.4      1   0             normal    0  \n",
       "4      0.8      1   0             normal    0  "
      ]
     },
     "execution_count": 4,
     "metadata": {},
     "output_type": "execute_result"
    }
   ],
   "source": [
    "clev = wrangle_data(\"heart+disease/cleveland.csv\")\n",
    "clev.head()"
   ]
  },
  {
   "cell_type": "code",
   "execution_count": 5,
   "id": "13310724-9885-4b60-8053-416021c25800",
   "metadata": {},
   "outputs": [
    {
     "name": "stdout",
     "output_type": "stream",
     "text": [
      "<class 'pandas.core.frame.DataFrame'>\n",
      "RangeIndex: 302 entries, 0 to 301\n",
      "Data columns (total 14 columns):\n",
      " #   Column    Non-Null Count  Dtype  \n",
      "---  ------    --------------  -----  \n",
      " 0   age       302 non-null    int64  \n",
      " 1   sex       302 non-null    int64  \n",
      " 2   cp        302 non-null    object \n",
      " 3   trestbps  302 non-null    int64  \n",
      " 4   chol      302 non-null    int64  \n",
      " 5   fbs       302 non-null    int64  \n",
      " 6   restecg   302 non-null    object \n",
      " 7   thalach   302 non-null    int64  \n",
      " 8   exang     302 non-null    int64  \n",
      " 9   oldpeak   302 non-null    float64\n",
      " 10  slope     302 non-null    int64  \n",
      " 11  ca        302 non-null    int64  \n",
      " 12  thal      302 non-null    object \n",
      " 13  num       302 non-null    int64  \n",
      "dtypes: float64(1), int64(10), object(3)\n",
      "memory usage: 33.2+ KB\n"
     ]
    }
   ],
   "source": [
    "clev.info()"
   ]
  },
  {
   "cell_type": "code",
   "execution_count": 6,
   "id": "d557d0f3-87e9-4a99-b43c-c51353a733d8",
   "metadata": {},
   "outputs": [
    {
     "data": {
      "text/plain": [
       "age         0\n",
       "sex         0\n",
       "cp          0\n",
       "trestbps    0\n",
       "chol        0\n",
       "fbs         0\n",
       "restecg     0\n",
       "thalach     0\n",
       "exang       0\n",
       "oldpeak     0\n",
       "slope       0\n",
       "ca          0\n",
       "thal        0\n",
       "num         0\n",
       "dtype: int64"
      ]
     },
     "execution_count": 6,
     "metadata": {},
     "output_type": "execute_result"
    }
   ],
   "source": [
    "clev.isnull().sum()"
   ]
  }
 ],
 "metadata": {
  "kernelspec": {
   "display_name": "Python 3 (ipykernel)",
   "language": "python",
   "name": "python3"
  },
  "language_info": {
   "codemirror_mode": {
    "name": "ipython",
    "version": 3
   },
   "file_extension": ".py",
   "mimetype": "text/x-python",
   "name": "python",
   "nbconvert_exporter": "python",
   "pygments_lexer": "ipython3",
   "version": "3.9.6"
  }
 },
 "nbformat": 4,
 "nbformat_minor": 5
}
