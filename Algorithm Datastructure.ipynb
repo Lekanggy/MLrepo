{
 "cells": [
  {
   "cell_type": "code",
   "execution_count": 19,
   "id": "16e0e652-427d-4087-b641-7a5750856b54",
   "metadata": {},
   "outputs": [],
   "source": [
    "#Linear search\n",
    "\n",
    "def locate_item(items, query):\n",
    "    # create a position to find query\n",
    "    position = 0;\n",
    "    #create a loop to traverse the items and making sure it check for empty items\n",
    "    while position < len(items):\n",
    "        if items[position] == query:\n",
    "            return position\n",
    "        #If postion not found increment\n",
    "        position +=1\n",
    "    return -1"
   ]
  },
  {
   "cell_type": "code",
   "execution_count": 20,
   "id": "12892623-2d90-4b30-9a62-2cdd2a9cbef1",
   "metadata": {},
   "outputs": [
    {
     "name": "stdout",
     "output_type": "stream",
     "text": [
      "CPU times: user 34 µs, sys: 1e+03 ns, total: 35 µs\n",
      "Wall time: 39.8 µs\n"
     ]
    },
    {
     "data": {
      "text/plain": [
       "0"
      ]
     },
     "execution_count": 20,
     "metadata": {},
     "output_type": "execute_result"
    }
   ],
   "source": [
    "%%time\n",
    "items = [1, 5, 34, 6, 7, 8 ,9, 10, 22, 34]\n",
    "query = 1\n",
    "locate_item(items, query)"
   ]
  },
  {
   "cell_type": "code",
   "execution_count": null,
   "id": "fc3bf6c8-833a-4cdd-a3b6-fbc288fb04db",
   "metadata": {},
   "outputs": [],
   "source": []
  }
 ],
 "metadata": {
  "kernelspec": {
   "display_name": "Python 3 (ipykernel)",
   "language": "python",
   "name": "python3"
  },
  "language_info": {
   "codemirror_mode": {
    "name": "ipython",
    "version": 3
   },
   "file_extension": ".py",
   "mimetype": "text/x-python",
   "name": "python",
   "nbconvert_exporter": "python",
   "pygments_lexer": "ipython3",
   "version": "3.9.6"
  }
 },
 "nbformat": 4,
 "nbformat_minor": 5
}
