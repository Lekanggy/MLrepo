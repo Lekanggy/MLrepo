{
 "cells": [
  {
   "cell_type": "markdown",
   "id": "9f130b7f-b3b7-42b2-b28c-b764d401f6eb",
   "metadata": {},
   "source": [
    "## Installation of jupyter notebook in mac\n",
    "\n",
    "Run the following in order\n",
    "If python not install on machine start with this \n",
    "\n",
    "----> `brew install python3` (if installed skip this)\n",
    "\n",
    "----> `pip3 install --upgrade pip` (to avoid error while installing)\n",
    "\n",
    "----> `pip3 install jupyter`\n",
    "\n",
    "----> `jupyter notebook` (to start jupyter) \n",
    "\n",
    "And if error of path not found occur\n",
    "\n",
    "run the following\n",
    "\n",
    "confirn the executable file by ruuning this ----> `ls /Users/mac/Library/Python/3.9/bin`\n",
    "\n",
    "Open your .zshrc file (the configuration file for zsh) in a text editor: ---> `nano ~/.zshrc`\n",
    "\n",
    "Add the following line to include the directory in your PATH: ---> `export PATH=$PATH:/Users/mac/Library/Python/3.9/bin`\n",
    "\n",
    "Apply the changes by reloading your .zshrc file: ---> `source ~/.zshrc`\n"
   ]
  },
  {
   "cell_type": "code",
   "execution_count": null,
   "id": "93409289-da13-4cbb-853b-12513dc7b6cc",
   "metadata": {},
   "outputs": [],
   "source": []
  }
 ],
 "metadata": {
  "kernelspec": {
   "display_name": "Python 3 (ipykernel)",
   "language": "python",
   "name": "python3"
  },
  "language_info": {
   "codemirror_mode": {
    "name": "ipython",
    "version": 3
   },
   "file_extension": ".py",
   "mimetype": "text/x-python",
   "name": "python",
   "nbconvert_exporter": "python",
   "pygments_lexer": "ipython3",
   "version": "3.9.6"
  }
 },
 "nbformat": 4,
 "nbformat_minor": 5
}
